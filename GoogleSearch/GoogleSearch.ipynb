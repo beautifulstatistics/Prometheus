{
 "cells": [
  {
   "cell_type": "code",
   "execution_count": 29,
   "metadata": {},
   "outputs": [],
   "source": [
    "from googlesearch import search, get_tbs\n",
    "from datetime import date, datetime\n",
    "from bs4 import BeautifulSoup\n",
    "import requests\n",
    "import re\n",
    "\n",
    "def download(title, start_date=None, end_date=None, num=5):\n",
    "    regex = re.compile('[^a-zA-Z.!0-9$%?,.]')\n",
    "    def clean(line):\n",
    "        try:\n",
    "            line = regex.sub(' ',line).lower().strip()\n",
    "        except:\n",
    "            line = ''\n",
    "        return(line)\n",
    "\n",
    "    start_tf = start_date is not None\n",
    "    end_tf = end_date is not None\n",
    "    if start_tf and end_tf:\n",
    "        start_date = datetime.strptime(start_date,'%Y-%m-%d')\n",
    "        end_date = datetime.strptime(end_date,'%Y-%m-%d')\n",
    "        tbs = get_tbs(start_date,end_date)\n",
    "    else:\n",
    "        tbs = 'qdr:d'\n",
    "\n",
    "    strings = []\n",
    "    for i in search(title,\n",
    "                    tbs=tbs,\n",
    "                    tld=\"com\",\n",
    "                    num=num,\n",
    "                    stop=num,\n",
    "                    pause=2):\n",
    "        \n",
    "        r = requests.get(i)\n",
    "        soup = BeautifulSoup(r.text, 'html.parser')\n",
    "        text = ''\n",
    "        for j in soup.find_all('p'):\n",
    "            text += ' ' + j.get_text()\n",
    "        \n",
    "        strings.append(clean(text))\n",
    "        \n",
    "    return(strings)"
   ]
  },
  {
   "cell_type": "code",
   "execution_count": 30,
   "metadata": {},
   "outputs": [
    {
     "data": {
      "text/plain": [
       "['june 12   ben lovejoy             jun. 12th 2020 7 50 am pt           benlovejoy   benlovejoy over the past 24 hours, there s been a big increase in the number of analysts predicting that the value of aapl stock will rise, but this apparent boost in optimism on aapl is not quite as it appears     at wednesday s close, just six of the analysts monitored by ped30 had price targets above aapl s then value. by last night s close, that number had increased to 17. however, while some had increased their targets, most of it was explained by the fall in aapl s value in the 24 hour period   and that had little to do with the company itself. msn reports that there was something of a stock market bloodbath on thursday, driven by evidence that moves by several states to re open the economy are dangerously early. the dow, s p 500 and nasdaq on thursday all recorded their biggest one day losses since mid march, posting losses of at least 5%. thursday s declines put the major averages on pace for their biggest weekly losses since march 20, when they all dropped at least 12% amid broad economic shutdowns stemming from the pandemic     thursday s losses came after data compiled by johns hopkins university showed the number of new coronavirus cases has risen in states like arizona, south carolina and texas as they continue their reopening process. arizona cases have nearly doubled since memorial day     overall, more than 2 million coronavirus cases have been confirmed in the u.s. along with over 100,000 deaths. aapl got caught up in that, falling from $352.84 to $335.90   which in turn meant that analysts who had unchanged price targets within that range effectively showed up as shifting from a pessimistic stance to an optimistic one. we ll get a more meaningful take when analysts react to apple s keynote presentation on june 22 at its virtual wwdc. they will be particularly keen to see whether there is any truth to a report that the company will announce plans for its first arm powered mac, predicted to launch next year. even if it does so, we may not learn much about the planned hardware, but it will at least point to the company s vision of the future for its mac lineup. photo  carlos delgado  cc by sa ftc  we use income earning auto affiliate links. more. check out 9to5mac on youtube for more apple news  breaking news from cupertino. we ll give you the latest from apple headquarters and decipher fact from fiction from the rumor mill.   benlovejoy  ben lovejoy is a british technology writer and eu editor for 9to5mac. he s known for his op eds and diary pieces, exploring his experience of apple products over time, for a more rounded review. he also writes fiction, with two technothriller novels, a couple of sf shorts and a rom com! video  ios 14 beta 3 hands on hands on  eufy s affordable homekit secure video cam braided lightning cable for iphone 12 pictured what s new in macos 11 big sur beta 3?',\n",
       " 'june 9   filipe esp sito             jun. 9th 2020 3 03 pm pt           filipeesposito   filipeesposito apple s stock closed this tuesday with an all time high record, reaching $343.99 at the end of trading. as noted by cnbc, big technology companies are performing strongly during the covid 19 pandemic.   with people working from home and relying on online services or in some cases having to buy new devices, apple and other tech companies weren t as impacted by the current global situation. apple, in particular, saw a decline in stocks between february and march this year, mostly due to supplier constraints, but it rose again in april. right now, apple s market value is estimated at $1.491 trillion, and it could get even higher in the future. as the company is reportedly going to announce its transition from intel to arm chips for its line of macs at wwdc this month, analysts are optimistic about how these changes will impact aapl. thanks to their large market caps, they ve also helped buoy the stock market, which has staged a comeback despite huge unemployment numbers sparked by widespread stay at home orders. according to evercore isi analyst amit daryanani  via marketwatch , apple has an  underappreciated  ability to create its own chips in house. having the entire mac lineup running with apple designed arm processors can increase margins by 500 basis points in the long run. it is encouraging that apple continues to demonstrate its leading chip design capabilities as in housing semi design remains key to product margin expansion.  with wwdc 2020 taking place on june 22, we ll see how investors will react if apple does in fact announce that it s dropping intel processors to use its own arm chips on the mac. ftc  we use income earning auto affiliate links. more. check out 9to5mac on youtube for more apple news     filipeesposito  filipe esp sito is a brazilian tech journalist who started covering apple news on ihelp br with some exclusive scoops   including the reveal of the new apple watch series 5 models in titanium and ceramic. he joined 9to5mac to share even more tech news around the world. video  ios 14 beta 3 hands on hands on  eufy s affordable homekit secure video cam braided lightning cable for iphone 12 pictured what s new in macos 11 big sur beta 3?',\n",
       " 'in the latest trading session, apple  aapl  closed at $360.06, marking a  1.77% move from the previous day. this move was narrower than the s p 500 s daily loss of 2.59%. at the same time, the dow lost 2.72%, and the tech heavy nasdaq lost 2.19%. investors will be hoping for strength from aapl as it approaches its next earnings release. the company is expected to report eps of $1.96, down 10.09% from the prior year quarter. meanwhile, our latest consensus estimate is calling for revenue of $51 billion, down 5.22% from the prior year quarter. looking at the full year, our zacks consensus estimates suggest analysts are expecting earnings of $12.32 per share and revenue of $262.10 billion. these totals would mark changes of  3.62% and  0.74%, respectively, from last year. it is also important to note the recent changes to analyst estimates for aapl. these recent revisions tend to reflect the evolving nature of short term business trends. with this in mind, we can consider positive estimate revisions a sign of optimism about the company s business outlook. research indicates that these estimate revisions are directly correlated with near term share price momentum. to benefit from this, we have developed the zacks rank, a proprietary model which takes these estimate changes into account and provides an actionable rating system. ranging from  1  strong buy  to  5  strong sell , the zacks rank system has a proven, outside audited track record of outperformance, with  1 stocks returning an average of  25% annually since 1988. the zacks consensus eps estimate has moved 0.08% higher within the past month. aapl is holding a zacks rank of  3  hold  right now. valuation is also important, so investors should note that aapl has a forward p e ratio of 29.76 right now. its industry sports an average forward p e of 8.11, so we one might conclude that aapl is trading at a premium comparatively. also, we should mention that aapl has a peg ratio of 2.71. this popular metric is similar to the widely known p e ratio, with the difference being that the peg ratio also takes into account the company s expected earnings growth rate. computer   mini computers stocks are, on average, holding a peg ratio of 2.71 based on yesterday s closing prices. the computer   mini computers industry is part of the computer and technology sector. this group has a zacks industry rank of 103, putting it in the top 41% of all 250  industries. the zacks industry rank gauges the strength of our industry groups by measuring the average zacks rank of the individual stocks within the groups. our research shows that the top 50% rated industries outperform the bottom half by a factor of 2 to 1. be sure to follow all of these stock moving metrics, and many more, on zacks.com. want the latest recommendations from zacks investment research? today, you can download 7 best stocks for the next 30 days. click to get this free report apple inc.  aapl    free stock analysis report to read this article on zacks.com click here.',\n",
       " 'create your free account already have an account? login  by creating an account, you agree to theterms of service and acknowledge our privacy policy. log in to your account don t have a benzinga account? create one the upcoming 5g cycle recently prompted citi analysts to raise their price target on apple inc.  nasdaq  aapl  to a street high $400, but ascent wealth partners managing director todd gordon says this target isn t generous enough. what happened  taking a look at apple s stock chart dating back to 2013, the case for upside to $490 per share can be made, gordon said on a cnbc  trading nation  segment. like clockwork, apple s stock rose at least 130% on three separate occasions before giving back one third of the gains. so far, apple s stock is up just 66% in its fourth rally from 2020 lows. if history repeats itself,  we can easily  see apple s stock carry its momentum over the coming years and gain another 40% from current levels, he said. see also  7 reasons why bofa is raising apple s price target as stock reaches new highs why it s important  the case for apple s stock is difficult to make based on chart patterns alone, but gordon came prepared to back his thesis and said the 5g launch could prove to be the  supercycle that everyone s looking for.  other catalysts include continued growth in wearables, momentum in the services unit with subscription, streaming, tv, gaming and the credit card. what s next  consumers are showing signs of  pent up demand  to buy products, including a new iphone, according to steve chiavarone, portfolio manager at federated herme.  they have stockpiled savings, and we expect the consumer to have a good second half,  he said on cnbc. apple s stock trades around $355.20 at the time of publication.  view more analyst ratings for aapl  view the latest analyst ratings    2020 benzinga.com. benzinga does not provide investment advice. all rights reserved. posted in  5g ascent wealth partnersanalyst color long ideas price target analyst ratings media trading ideas best of benzinga thank you for subscribing! if you have any questions feel free to call us at 1 877 440 zing or email us at vipaccounts benzinga.com',\n",
       " 'copyright   2020, quiller media, inc.  contact us   privacy policy   advertise on ai investment bank wedbush has raised its aapl price target to $425 and claims that apple could hit a $2 trillion price valuation in 2021.  in an investors  note seen by appleinsider, lead analyst daniel ives writes that apple has  lots of gas left in the tank.  this fuel is primarily the 5g equipped  iphone 12  launch just over the horizon, says ives.  ives adds that tailwinds from the 5g rollout and apple s strong services momentum could be key ingredients to the cupertino tech giant s further growth. the u.s. variants of 2020 s iphones are expected to support mmwave 5g, since apple has  ironed out  some wrinkles in the tech.  the analyst says that the  iphone 12  lineup is likely to debut in the mid to late september timeframe, but he isn t clear on when he thinks the phones will actually ship. furthermore, ives believes that some models could launch in the sub $1,000 price range despite additional 5g components.  apple could also create more cross sell opportunity for airpods, since recent wedbush supply chain checks corroborate rumors that the  iphone 12  won t come with wired earpods in the box. apple is currently on a trajectory to ship 85 million airpod units in 2019, he said.  on services, wedbush has assigned a $600 to $650 billion valuation range given its increasing importance as a revenue stream and its appreciation by investors during coronavirus.  ives maintains that the fall iphone lineup will drive a  5g super cycle  for apple, based on estimates that 350 million of apple s 950 million strong iphone user base is in an upgrade window. pent up demand in china will also be a key factor, since wedbush forecasts that 20% of all upgrades will come out of the country in the next few years.  wedbush asia and supply chain checks have led to a 160 million to 180 million iphone unit estimate in 2020 with  strong underlying momentum  heading into 2021.  the analyst s 12 month $425 price target is based on a sum of the parts valuation estimate for 2021. wedbush arrived at that number from a 9.8x multiple to services at $600 billion and a 5.5x multiple for hardware at $1.3 trillion.  this is the second time in june that ives has bumped up his aapl price target. earlier in june, he raised it to $375, from $350, on rock solid services performance and the aforementioned super cycle.  shares of aapl are currently trading at $359.41, down 0.18% since markets opened thursday. apple s stock price is up 2.4% since june 22, when it announced a slate of new software updates, like ios 14, and a broad transition to apple silicon in macs at wwdc 2020.  appleinsider has affiliate partnerships and may earn commission on products purchased through affiliate links.          these partnerships do not influence our editorial content.      quote apple is currently on a trajectory to ship 85 million airpod units in 2019, he said.2019? 2020 is more than half over already. perhaps some wires have gotten crossed a bit?there is more to the valuation of a company than the sum of its stock price multiplied by the number of outstandinf shares. you have to take into consideration a lot of other factors especially the gearing and for a company that actually sells physical things, the amount of money that potential customers have to spend when there is a huge recession looming around the world.  now where is that big pinch of salt?   cook s us antitrust hearing appearance rescheduled for july 29 apple releases trailer for season 2 of  for all mankind  how apple a series chips stack up against intel macs instagram claims bug triggered ios 14 camera notifications when not in use how to pick the best monitor for studying and working from home ultimate 16 inch macbook pro deal roundup  up to $600 off, plus applecare discount   5% back apple employees granted paid time off to vote in us election epic games ceo criticizes apple s app store policies in interview']"
      ]
     },
     "execution_count": 30,
     "metadata": {},
     "output_type": "execute_result"
    }
   ],
   "source": [
    "download('AAPL','2020-05-26','2020-06-26')"
   ]
  }
 ],
 "metadata": {
  "kernelspec": {
   "display_name": "Python 3",
   "language": "python",
   "name": "python3"
  },
  "language_info": {
   "codemirror_mode": {
    "name": "ipython",
    "version": 3
   },
   "file_extension": ".py",
   "mimetype": "text/x-python",
   "name": "python",
   "nbconvert_exporter": "python",
   "pygments_lexer": "ipython3",
   "version": "3.7.7"
  }
 },
 "nbformat": 4,
 "nbformat_minor": 4
}
