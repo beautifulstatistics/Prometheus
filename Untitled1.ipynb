{
 "cells": [
  {
   "cell_type": "code",
   "execution_count": 10,
   "metadata": {},
   "outputs": [],
   "source": [
    "from gensim.models.word2vec import Word2Vec\n",
    "import pickle\n",
    "\n",
    "with open('text.pkl', 'rb') as fi:\n",
    "    doc = pickle.load(fi)\n",
    "\n",
    "line = []\n",
    "for i, (title,body) in enumerate(doc):\n",
    "    line.append((title+body).split())\n",
    "\n"
   ]
  },
  {
   "cell_type": "code",
   "execution_count": 12,
   "metadata": {},
   "outputs": [],
   "source": [
    "n_dim = 300\n",
    "model = Word2Vec(size=n_dim, min_count=10)\n",
    "model.build_vocab(line)"
   ]
  },
  {
   "cell_type": "code",
   "execution_count": 22,
   "metadata": {
    "scrolled": false
   },
   "outputs": [
    {
     "name": "stdout",
     "output_type": "stream",
     "text": [
      "Help on method make_cum_table in module gensim.models.word2vec:\n",
      "\n",
      "make_cum_table(wv, domain=2147483647) method of gensim.models.word2vec.Word2VecVocab instance\n",
      "    Create a cumulative-distribution table using stored vocabulary word counts for\n",
      "    drawing random words in the negative-sampling training routines.\n",
      "    \n",
      "    To draw a word index, choose a random integer up to the maximum value in the table (cum_table[-1]),\n",
      "    then finding that integer's sorted insertion point (as if by `bisect_left` or `ndarray.searchsorted()`).\n",
      "    That insertion point is the drawn index, coming up in proportion equal to the increment at that slot.\n",
      "    \n",
      "    Called internally from :meth:`~gensim.models.word2vec.Word2VecVocab.build_vocab`.\n",
      "\n"
     ]
    }
   ],
   "source": [
    "help(model.vocabulary.make_cum_table)"
   ]
  }
 ],
 "metadata": {
  "kernelspec": {
   "display_name": "Python 3",
   "language": "python",
   "name": "python3"
  },
  "language_info": {
   "codemirror_mode": {
    "name": "ipython",
    "version": 3
   },
   "file_extension": ".py",
   "mimetype": "text/x-python",
   "name": "python",
   "nbconvert_exporter": "python",
   "pygments_lexer": "ipython3",
   "version": "3.7.7"
  }
 },
 "nbformat": 4,
 "nbformat_minor": 4
}
