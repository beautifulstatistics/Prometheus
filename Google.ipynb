{
 "cells": [
  {
   "cell_type": "code",
   "execution_count": 2,
   "metadata": {},
   "outputs": [],
   "source": [
    "import gensim\n",
    "import pickle\n",
    "model = gensim.models.KeyedVectors.load_word2vec_format('~/gensim-data/GoogleNews-vectors-negative300.bin.gz', \n",
    "                                                        binary=True,\n",
    "                                                       limit=100000) "
   ]
  },
  {
   "cell_type": "code",
   "execution_count": 3,
   "metadata": {},
   "outputs": [],
   "source": [
    "with open('text.pkl', 'rb') as fi:\n",
    "    doc = pickle.load(fi)"
   ]
  },
  {
   "cell_type": "code",
   "execution_count": 11,
   "metadata": {},
   "outputs": [],
   "source": [
    "import numpy as np\n",
    "def getWordVecs(words):\n",
    "    vecs = []\n",
    "    for word in words:\n",
    "        word = word.replace('\\n', '')\n",
    "        try:\n",
    "            vecs.append(model[word].reshape((1,300)))\n",
    "        except KeyError:\n",
    "            continue\n",
    "    vecs = np.concatenate(vecs)\n",
    "    return np.array(vecs, dtype='float')"
   ]
  },
  {
   "cell_type": "code",
   "execution_count": 38,
   "metadata": {},
   "outputs": [
    {
     "data": {
      "text/plain": [
       "array([[ 0.22167969,  0.18164062,  0.140625  , ...,  0.29492188,\n",
       "        -0.01501465,  0.13867188],\n",
       "       [-0.22558594,  0.04199219,  0.0703125 , ...,  0.05395508,\n",
       "         0.14550781, -0.09716797],\n",
       "       [-0.05297852,  0.28320312,  0.22070312, ..., -0.12597656,\n",
       "         0.04882812, -0.08203125],\n",
       "       ...,\n",
       "       [-0.04370117,  0.17089844,  0.02526855, ..., -0.26171875,\n",
       "        -0.03442383,  0.00616455],\n",
       "       [ 0.08007812, -0.05126953, -0.07128906, ..., -0.08300781,\n",
       "         0.18847656, -0.02124023],\n",
       "       [-0.01293945, -0.02648926,  0.13574219, ..., -0.12451172,\n",
       "        -0.15917969,  0.125     ]])"
      ]
     },
     "execution_count": 38,
     "metadata": {},
     "output_type": "execute_result"
    }
   ],
   "source": [
    "line = []\n",
    "for i, (title,body) in enumerate(doc):\n",
    "    line += (title+body).split()\n",
    "\n",
    "getWordVecs(line)"
   ]
  }
 ],
 "metadata": {
  "kernelspec": {
   "display_name": "Python 3",
   "language": "python",
   "name": "python3"
  },
  "language_info": {
   "codemirror_mode": {
    "name": "ipython",
    "version": 3
   },
   "file_extension": ".py",
   "mimetype": "text/x-python",
   "name": "python",
   "nbconvert_exporter": "python",
   "pygments_lexer": "ipython3",
   "version": "3.7.7"
  }
 },
 "nbformat": 4,
 "nbformat_minor": 4
}
