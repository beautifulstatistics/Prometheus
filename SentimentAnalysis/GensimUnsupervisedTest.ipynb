{
 "cells": [
  {
   "cell_type": "code",
   "execution_count": 1,
   "metadata": {},
   "outputs": [],
   "source": [
    "from sklearn.model_selection import train_test_split\n",
    "from gensim.models.doc2vec import Doc2Vec, TaggedDocument\n",
    "from sklearn.metrics import average_precision_score, precision_recall_curve\n",
    "from sklearn.preprocessing import scale\n",
    "import matplotlib.pyplot as plt\n",
    "import numpy as np\n",
    "import re"
   ]
  },
  {
   "cell_type": "code",
   "execution_count": 2,
   "metadata": {},
   "outputs": [],
   "source": [
    "links = re.compile(\"http[s]?://[a-zA-z./\\d]*\")\n",
    "punc = re.compile(\"[\\s+\\.\\!\\/_,$%^*(+\\\"\\']+|[+——！，。？、~￥%……&*（）]+\")\n",
    "punc1 = re.compile(\"[【】╮╯▽╰╭★→「」]+\")\n",
    "punc2 = re.compile(\"！，❤。～《》：（）【】「」？”“；：、\")\n",
    "fourdots = re.compile(\"\\.*\")\n",
    "\n",
    "def clean(line):\n",
    "    line = links.sub(' ',line)\n",
    "    line = punc.sub(' ',line)\n",
    "    line = punc1.sub(' ',line)\n",
    "    line = punc2.sub(' ',line)\n",
    "    line = fourdots.sub('',line)\n",
    "    return(line)    "
   ]
  },
  {
   "cell_type": "code",
   "execution_count": 3,
   "metadata": {},
   "outputs": [],
   "source": [
    "with open('../Data/pos_tweets.txt', 'r') as infile:\n",
    "    pos_tweets = []\n",
    "    for line in infile:\n",
    "        pos_tweets.append(clean(line))\n",
    "\n",
    "with open('../Data/neg_tweets.txt', 'r') as infile:\n",
    "    neg_tweets = []\n",
    "    for line in infile:\n",
    "        neg_tweets.append(clean(line))\n",
    "\n",
    "y = np.concatenate((np.ones(len(pos_tweets)), np.zeros(len(neg_tweets)))).astype(int).astype(str)\n",
    "X = np.concatenate((pos_tweets, neg_tweets))\n",
    "\n",
    "x_train, x_test, y_train, y_test = train_test_split(X, y, test_size=0.2)"
   ]
  },
  {
   "cell_type": "code",
   "execution_count": 4,
   "metadata": {},
   "outputs": [],
   "source": [
    "train_sup = []\n",
    "train_unsup = []\n",
    "for i, (xline,yline) in enumerate(zip(x_train,y_train)):\n",
    "    train_sup.append(TaggedDocument(xline.lower().split(),[i,yline]))\n",
    "    train_unsup.append(TaggedDocument(xline.lower().split(),[i]))\n",
    "\n",
    "test_sup = []\n",
    "test_unsup = []\n",
    "for i, (xline,yline) in enumerate(zip(x_test,y_test)):\n",
    "    test_sup.append(TaggedDocument(xline.split(),[i,yline]))\n",
    "    test_unsup.append(TaggedDocument(xline.split(),[i]))"
   ]
  },
  {
   "cell_type": "code",
   "execution_count": 5,
   "metadata": {},
   "outputs": [],
   "source": [
    "model_sup = Doc2Vec(vector_size=100, min_count=3, epochs= 100, workers= 20)\n",
    "model_sup.build_vocab(train_sup)\n",
    "model_sup.train(train_sup,total_examples=model_sup.corpus_count,epochs=model_sup.epochs)\n",
    "\n",
    "model_unsup = Doc2Vec(vector_size=100, min_count=3, epochs= 100, workers= 20)\n",
    "model_unsup.build_vocab(train_unsup)\n",
    "model_unsup.train(train_unsup,total_examples=model_unsup.corpus_count,epochs=model_unsup.epochs)"
   ]
  },
  {
   "cell_type": "code",
   "execution_count": 6,
   "metadata": {
    "scrolled": false
   },
   "outputs": [],
   "source": [
    "def unit(vec):\n",
    "    if vec.sum():\n",
    "        vec = vec/np.linalg.norm(vec)\n",
    "    return vec\n",
    "\n",
    "pos_sup = unit(model_sup.docvecs['1'])\n",
    "neg_sup = unit(model_sup.docvecs['0'])\n",
    "\n",
    "pos_unsup = unit(model_unsup.wv['good'])\n",
    "neg_unsup = unit(model_unsup.wv['bad'])"
   ]
  },
  {
   "cell_type": "code",
   "execution_count": 7,
   "metadata": {},
   "outputs": [],
   "source": [
    "def diff(vec,plus_vec,minus_vec):\n",
    "    return np.dot(vec,plus_vec)-np.dot(vec,minus_vec)\n",
    "    \n",
    "outer_sup = [] \n",
    "for i in test_sup:\n",
    "    vec = unit(model_sup.infer_vector(i[0]))\n",
    "    outer_sup.append(diff(vec,pos_sup,neg_sup))\n",
    "\n",
    "outer_unsup = []\n",
    "for i in test_unsup:\n",
    "    vec = unit(model_unsup.infer_vector(i[0]))\n",
    "    outer_unsup.append(diff(vec,pos_unsup,neg_unsup))\n",
    "\n",
    "outer_random = np.random.normal(size=len(y_test))"
   ]
  },
  {
   "cell_type": "code",
   "execution_count": 8,
   "metadata": {},
   "outputs": [
    {
     "name": "stdout",
     "output_type": "stream",
     "text": [
      "Supervised:  0.740132292132389\n",
      "Unsupervised:  0.48373256134894155\n",
      "Random:  0.3396795484960746\n"
     ]
    }
   ],
   "source": [
    "print(\"Supervised: \",average_precision_score(y_test,outer_sup,pos_label='1'))\n",
    "print(\"Unsupervised: \", average_precision_score(y_test,outer_unsup,pos_label='1'))\n",
    "print(\"Random: \",average_precision_score(y_test,outer_random,pos_label='1'))"
   ]
  },
  {
   "cell_type": "code",
   "execution_count": 9,
   "metadata": {},
   "outputs": [
    {
     "data": {
      "image/png": "[encoded data removed]",
      "text/plain": [
       "<Figure size 432x288 with 1 Axes>"
      ]
     },
     "metadata": {
      "needs_background": "light"
     },
     "output_type": "display_data"
    }
   ],
   "source": [
    "prec_sup, recall_sup, _ = precision_recall_curve(y_test,outer_sup,pos_label='1')\n",
    "prec_unsup, recall_unsup, _ = precision_recall_curve(y_test,outer_unsup,pos_label='1')\n",
    "prec_random, recall_random, _ = precision_recall_curve(y_test,outer_random,pos_label='1')\n",
    "\n",
    "plt.plot(recall_sup,prec_sup)\n",
    "plt.plot(recall_unsup,prec_unsup)\n",
    "plt.plot(recall_random,prec_random)\n",
    "plt.show()"
   ]
  }
 ],
 "metadata": {
  "kernelspec": {
   "display_name": "Python 3",
   "language": "python",
   "name": "python3"
  },
  "language_info": {
   "codemirror_mode": {
    "name": "ipython",
    "version": 3
   },
   "file_extension": ".py",
   "mimetype": "text/x-python",
   "name": "python",
   "nbconvert_exporter": "python",
   "pygments_lexer": "ipython3",
   "version": "3.7.7"
  }
 },
 "nbformat": 4,
 "nbformat_minor": 4
}
