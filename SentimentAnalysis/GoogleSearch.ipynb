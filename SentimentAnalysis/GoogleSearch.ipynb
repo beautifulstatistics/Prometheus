{
 "cells": [
  {
   "cell_type": "code",
   "execution_count": 1,
   "metadata": {},
   "outputs": [],
   "source": [
    "from googlesearch import search\n",
    "from bs4 import BeautifulSoup\n",
    "import requests\n",
    "import re\n",
    "\n",
    "def download_search(title,num=20):\n",
    "    regex = re.compile('[^a-zA-Z.!0-9$%?,.]')\n",
    "    def clean(line):\n",
    "        try:\n",
    "            line = regex.sub(' ',line.string).lower()\n",
    "        except:\n",
    "            line = ''\n",
    "        return(line)\n",
    "\n",
    "    strings = []\n",
    "    for i in search(title, tld=\"com\", num=num, stop=num, pause=3):\n",
    "        r = requests.get(i)\n",
    "        soup = BeautifulSoup(r.text, 'html.parser')\n",
    "        text = ''\n",
    "        for j in soup.find_all('p'):\n",
    "            text += ' ' + j.get_text()\n",
    "        \n",
    "        strings.append((clean(soup.title), clean(text)))\n",
    "        \n",
    "    return(strings)"
   ]
  },
  {
   "cell_type": "code",
   "execution_count": 2,
   "metadata": {},
   "outputs": [],
   "source": [
    "s = download_search('Tesla')"
   ]
  },
  {
   "cell_type": "code",
   "execution_count": 4,
   "metadata": {},
   "outputs": [],
   "source": [
    "import pickle as pi\n",
    "with open('text.pkl', 'wb') as fi:\n",
    "    pi.dump(s,fi)"
   ]
  }
 ],
 "metadata": {
  "kernelspec": {
   "display_name": "Python 3",
   "language": "python",
   "name": "python3"
  },
  "language_info": {
   "codemirror_mode": {
    "name": "ipython",
    "version": 3
   },
   "file_extension": ".py",
   "mimetype": "text/x-python",
   "name": "python",
   "nbconvert_exporter": "python",
   "pygments_lexer": "ipython3",
   "version": "3.7.7"
  }
 },
 "nbformat": 4,
 "nbformat_minor": 4
}
