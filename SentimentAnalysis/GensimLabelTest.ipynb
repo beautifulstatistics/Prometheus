{
 "cells": [
  {
   "cell_type": "code",
   "execution_count": 1,
   "metadata": {},
   "outputs": [],
   "source": [
    "from sklearn.model_selection import train_test_split\n",
    "from gensim.models.doc2vec import Doc2Vec, TaggedDocument\n",
    "from sklearn.metrics import average_precision_score\n",
    "from sklearn.linear_model import LogisticRegression\n",
    "from sklearn.preprocessing import scale\n",
    "import numpy as np\n",
    "import re"
   ]
  },
  {
   "cell_type": "code",
   "execution_count": 2,
   "metadata": {},
   "outputs": [],
   "source": [
    "links = re.compile(\"http[s]?://[a-zA-z./\\d]*\")\n",
    "punc = re.compile(\"[\\s+\\.\\!\\/_,$%^*(+\\\"\\']+|[+——！，。？、~￥%……&*（）]+\")\n",
    "punc1 = re.compile(\"[【】╮╯▽╰╭★→「」]+\")\n",
    "punc2 = re.compile(\"！，❤。～《》：（）【】「」？”“；：、\")\n",
    "fourdots = re.compile(\"\\.*\")\n",
    "\n",
    "def clean(line):\n",
    "    line = links.sub(' ',line)\n",
    "    line = punc.sub(' ',line)\n",
    "    line = punc1.sub(' ',line)\n",
    "    line = punc2.sub(' ',line)\n",
    "    line = fourdots.sub('',line)\n",
    "    return(line)    "
   ]
  },
  {
   "cell_type": "code",
   "execution_count": 3,
   "metadata": {},
   "outputs": [],
   "source": [
    "with open('./Data/pos_tweets.txt', 'r') as infile:\n",
    "    pos_tweets = []\n",
    "    for line in infile:\n",
    "        pos_tweets.append(clean(line))\n",
    "\n",
    "with open('./Data/neg_tweets.txt', 'r') as infile:\n",
    "    neg_tweets = []\n",
    "    for line in infile:\n",
    "        neg_tweets.append(clean(line))\n",
    "\n",
    "y = np.concatenate((np.ones(len(pos_tweets)), np.zeros(len(neg_tweets)))).astype(int).astype(str)\n",
    "\n",
    "x_train, x_test, y_train, y_test = train_test_split(np.concatenate((pos_tweets, neg_tweets)), y, test_size=0.2)\n",
    "\n",
    "train = []\n",
    "trainonly = []\n",
    "for i, (xline,yline) in enumerate(zip(x_train,y_train)):\n",
    "    train.append(TaggedDocument(xline.lower().split(),[i,yline]))\n",
    "    trainonly.append(TaggedDocument(xline.lower().split(),[i]))\n",
    "\n",
    "modeltags = Doc2Vec(vector_size=100, min_count=3, epochs= 200, workers= 4)\n",
    "modeltags.build_vocab(train)\n",
    "modeltags.train(train,total_examples=modeltags.corpus_count,epochs=modeltags.epochs)\n",
    "\n",
    "modelonly = Doc2Vec(vector_size=100, min_count=3, epochs= 200, workers= 4)\n",
    "modelonly.build_vocab(trainonly)\n",
    "modelonly.train(trainonly,total_examples=modelonly.corpus_count,epochs=modelonly.epochs)"
   ]
  },
  {
   "cell_type": "code",
   "execution_count": 4,
   "metadata": {
    "scrolled": false
   },
   "outputs": [],
   "source": [
    "pos_vec = modeltags.docvecs['1']\n",
    "pos_vec = pos_vec/np.linalg.norm(pos_vec)\n",
    "neg_vec = modeltags.docvecs['0']\n",
    "neg_vec = neg_vec/np.linalg.norm(neg_vec)"
   ]
  },
  {
   "cell_type": "code",
   "execution_count": 5,
   "metadata": {},
   "outputs": [],
   "source": [
    "inner_true = []\n",
    "inner_vecs = []\n",
    "for i in train:\n",
    "    vec = modeltags.infer_vector(i[0])\n",
    "    vec = vec/np.linalg.norm(vec)\n",
    "    inner_true.append(i[1][1])\n",
    "    inner_vecs.append(vec)\n",
    "\n",
    "\n",
    "inner_modelonly_vecs = []\n",
    "for i in trainonly:\n",
    "    vec = modelonly.infer_vector(i[0])\n",
    "    vec = vec/np.linalg.norm(vec)\n",
    "    inner_modelonly_vecs.append(vec)"
   ]
  },
  {
   "cell_type": "code",
   "execution_count": 6,
   "metadata": {},
   "outputs": [],
   "source": [
    "test = []\n",
    "testonly = []\n",
    "for i, (xline,yline) in enumerate(zip(x_test,y_test)):\n",
    "    test.append(TaggedDocument(xline.split(),[i,yline]))\n",
    "    testonly.append(TaggedDocument(xline.split(),[i]))\n",
    "\n",
    "\n",
    "\n",
    "outer_diff = [] \n",
    "outer_true = []\n",
    "outer_vecs = []\n",
    "for i in test:\n",
    "    vec = modeltags.infer_vector(i[0])\n",
    "    vec = vec/np.linalg.norm(vec)\n",
    "    outer_diff.append(np.dot(vec,pos_vec)-np.dot(vec,neg_vec))\n",
    "    outer_true.append(i[1][1])\n",
    "    outer_vecs.append(vec)\n",
    "    \n",
    "\n",
    "outer_modelonly_vecs = []\n",
    "for i in testonly:\n",
    "    vec = modelonly.infer_vector(i[0])\n",
    "    vec = vec/np.linalg.norm(vec)\n",
    "    outer_modelonly_vecs.append(vec)\n",
    "\n",
    "\n",
    "clf = LogisticRegression()\n",
    "clf.fit(inner_vecs,inner_true)\n",
    "outer_prob = clf.predict_proba(outer_vecs)[:,1]\n",
    "\n",
    "clf1 = LogisticRegression()\n",
    "clf1.fit(inner_modelonly_vecs,inner_true)\n",
    "outer_modelonly_prob = clf1.predict_proba(outer_modelonly_vecs)[:,1]"
   ]
  },
  {
   "cell_type": "code",
   "execution_count": 7,
   "metadata": {},
   "outputs": [
    {
     "data": {
      "text/plain": [
       "(67621, 116150)"
      ]
     },
     "execution_count": 7,
     "metadata": {},
     "output_type": "execute_result"
    }
   ],
   "source": [
    "from gensim.models.word2vec import Word2Vec\n",
    "train_words = [i.words for i in train]\n",
    "\n",
    "modelwords = Word2Vec(size=100, min_count=3, workers= 4)\n",
    "modelwords.build_vocab(train_words)\n",
    "modelwords.train(train_words,total_examples=modelwords.corpus_count,epochs=modelwords.epochs)"
   ]
  },
  {
   "cell_type": "code",
   "execution_count": 8,
   "metadata": {},
   "outputs": [],
   "source": [
    "innertwitter_vecs = []\n",
    "for tweet in train_words:\n",
    "    vec = np.zeros(shape=(100,))\n",
    "    for word in tweet:\n",
    "        counter = 0\n",
    "        if word in modelwords.wv:\n",
    "            vec += modelwords.wv[word]\n",
    "            counter += 1\n",
    "    if counter > 1:\n",
    "        vec = vec/counter\n",
    "        vec = vec/np.linalg.norm(vec)      \n",
    "    innertwitter_vecs.append(vec)\n",
    "\n",
    "test_words = [i.words for i in test]\n",
    "\n",
    "outertwitter_vecs = []\n",
    "for tweet in test_words:\n",
    "    vec = np.zeros(shape=(100,))\n",
    "    for word in tweet:\n",
    "        counter = 0\n",
    "        if word in modelwords.wv:\n",
    "            vec += modelwords.wv[word]\n",
    "            counter += 1\n",
    "    if counter > 1:\n",
    "        vec = vec/counter\n",
    "        vec = vec/np.linalg.norm(vec)      \n",
    "    outertwitter_vecs.append(vec)"
   ]
  },
  {
   "cell_type": "code",
   "execution_count": 9,
   "metadata": {},
   "outputs": [],
   "source": [
    "clf2 = LogisticRegression(max_iter=10000)\n",
    "clf2.fit(innertwitter_vecs,inner_true)\n",
    "outertwitter_prob = clf2.predict_proba(outertwitter_vecs)[:,1]"
   ]
  },
  {
   "cell_type": "code",
   "execution_count": 10,
   "metadata": {},
   "outputs": [
    {
     "name": "stdout",
     "output_type": "stream",
     "text": [
      "tags:  0.6624093539394535\n",
      "tagsLR: 0.6783857926837931\n",
      "taglessLR:  0.6315850012170042\n",
      "meanvect:  0.4373201141185392\n"
     ]
    }
   ],
   "source": [
    "print(\"TagsDotProduct: \",average_precision_score(outer_true,outer_diff,pos_label='1'))\n",
    "print(\"TagsLR:\", average_precision_score(outer_true,outer_prob,pos_label='1'))\n",
    "print(\"TaglessLR: \", average_precision_score(outer_true,outer_modelonly_prob,pos_label='1'))\n",
    "print(\"VectorMean: \", average_precision_score(outer_true,outertwitter_prob,pos_label='1'))"
   ]
  }
 ],
 "metadata": {
  "kernelspec": {
   "display_name": "Python 3",
   "language": "python",
   "name": "python3"
  },
  "language_info": {
   "codemirror_mode": {
    "name": "ipython",
    "version": 3
   },
   "file_extension": ".py",
   "mimetype": "text/x-python",
   "name": "python",
   "nbconvert_exporter": "python",
   "pygments_lexer": "ipython3",
   "version": "3.7.7"
  }
 },
 "nbformat": 4,
 "nbformat_minor": 4
}
