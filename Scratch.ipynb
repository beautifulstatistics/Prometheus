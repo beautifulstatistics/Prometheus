{
 "cells": [
  {
   "cell_type": "code",
   "execution_count": null,
   "metadata": {},
   "outputs": [],
   "source": [
    "        def suite(self, max_iter = 100000, n_iter = 50, cores = 1, verbose = True):\n",
    "        \n",
    "        from sklearn.naive_bayes import GaussianNB, ComplementNB\n",
    "        from sklearn.svm import LinearSVC, SVC, NuSVC\n",
    "        from sklearn.tree import DecisionTreeClassifier, ExtraTreeClassifier\n",
    "        from sklearn.neural_network import MLPClassifier\n",
    "        from sklearn.neighbors import RadiusNeighborsClassifier, RadiusNeighborsClassifier\n",
    "        from sklearn.ensemble import AdaBoostClassifier, BaggingClassifier, ExtraTreesClassifier\n",
    "        from sklearn.ensemble import GradientBoostingClassifier, RandomForestClassifier, StackingClassifier\n",
    "        from sklearn.linear_model import LogisticRegression\n",
    "        \n",
    "        from sklearn.model_selection import GridSearchCV\n",
    "        from sklearn.model_selection import ParameterSampler, RandomizedSearchCV\n",
    "        from sklearn.multiclass import OneVsRestClassifier\n",
    "        from scipy.stats.distributions import expon, beta, uniform\n",
    "        \n",
    "        print('\\nThis optimization program is time intensive. Set it and forget it. Please be patient.\\n')\n",
    "        \n",
    "        def optimize(clf, params):\n",
    "            print('Optimizing ',clf.__class__.__name__,' ', end='')\n",
    "            estimator__params = {}\n",
    "            for key in params:\n",
    "                estimator__params['estimator__' + key] = params[key]\n",
    "            \n",
    "            with warnings.catch_warnings(record=False):\n",
    "                warnings.simplefilter(\"ignore\")\n",
    "                cbc = OneVsRestClassifier(clf)\n",
    "                rcbc = RandomizedSearchCV(cbc, estimator__params, scoring='average_precision', \n",
    "                                          cv=self.folds,\n",
    "                                          refit=False,\n",
    "                                          n_iter=n_iter,\n",
    "                                          n_jobs=cores,\n",
    "                                          verbose=verbose)\n",
    "                rcbc.fit(X, self.label_bins)\n",
    "            \n",
    "            best_params = {}\n",
    "            for key in rcbc.best_params_:\n",
    "                estimator, sep, sub_key = key.partition('__')\n",
    "                best_params[sub_key] = rcbc.best_params_[key]\n",
    "            \n",
    "            return(best_params)\n",
    "\n",
    "        \"\"\"\n",
    "        #params = {'C':expon(scale=.5),\n",
    "                  'penalty':['l1','l2']}\n",
    "        #clf = LinearSVC(max_iter=max_iter)\n",
    "        \n",
    "        #self.add_fit(clf,name='LinearSVC_optim',params=optimize(clf,params))"
   ]
  }
 ],
 "metadata": {
  "kernelspec": {
   "display_name": "Python 3",
   "language": "python",
   "name": "python3"
  },
  "language_info": {
   "codemirror_mode": {
    "name": "ipython",
    "version": 3
   },
   "file_extension": ".py",
   "mimetype": "text/x-python",
   "name": "python",
   "nbconvert_exporter": "python",
   "pygments_lexer": "ipython3",
   "version": "3.7.7"
  }
 },
 "nbformat": 4,
 "nbformat_minor": 4
}
