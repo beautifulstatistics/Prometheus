{
 "cells": [
  {
   "cell_type": "code",
   "execution_count": 4,
   "metadata": {},
   "outputs": [],
   "source": [
    "# PKJM62G0UIEAA3T1DIHA  API Key ID\n",
    "# 08PcErcQBQMmMFLPafd2zeVel6DeBkAyhEUpKHFe  Secret Key\n",
    "from pprint import pprint=\n",
    "import alpaca_trade_api as tradeapi\n",
    "\n",
    "# API LINK\n",
    "api = tradeapi.REST('PKJM62G0UIEAA3T1DIHA',\n",
    "                    '08PcErcQBQMmMFLPafd2zeVel6DeBkAyhEUpKHFe',\n",
    "                    base_url='https://paper-api.alpaca.markets')\n",
    "\n",
    "# Cache account details?\n",
    "account = api.get_account()"
   ]
  },
  {
   "cell_type": "code",
   "execution_count": 19,
   "metadata": {},
   "outputs": [],
   "source": [
    "\n",
    "# For your text analysis, this will return a double line separated \n",
    "# listing of the news listings which had text summaries in them.\n",
    "# There are links to urls in all of them which\n",
    "# I suppose we could also scrape for information.\n",
    "# In any case this is a very easy way to piggyback off\n",
    "# of a ton of Bloomberg Yahoo other industry outlets \n",
    "# and then pipe it straight to your NLP program."
   ]
  },
  {
   "cell_type": "code",
   "execution_count": 44,
   "metadata": {},
   "outputs": [],
   "source": [
    "# Testing it with Apple then an example of the full output with Tesla\n",
    "news = list(api.polygon.news('AAPL'))"
   ]
  },
  {
   "cell_type": "code",
   "execution_count": 43,
   "metadata": {
    "scrolled": false
   },
   "outputs": [
    {
     "data": {
      "text/plain": [
       "{'AAPL': [Bar({   'c': 228.74,\n",
       "      'h': 251.83,\n",
       "      'l': 228,\n",
       "      'o': 247.18,\n",
       "      't': 1584676800,\n",
       "      'v': 83656772}),\n",
       "  Bar({   'c': 223.43,\n",
       "      'h': 228.4997,\n",
       "      'l': 212.61,\n",
       "      'o': 228.08,\n",
       "      't': 1584936000,\n",
       "      'v': 77575565}),\n",
       "  Bar({   'c': 246.88,\n",
       "      'h': 247.69,\n",
       "      'l': 234.3,\n",
       "      'o': 236.36,\n",
       "      't': 1585022400,\n",
       "      'v': 64013339}),\n",
       "  Bar({   'c': 245.465,\n",
       "      'h': 258.25,\n",
       "      'l': 244.3,\n",
       "      'o': 250.82,\n",
       "      't': 1585108800,\n",
       "      'v': 67944382}),\n",
       "  Bar({   'c': 258.48,\n",
       "      'h': 258.68,\n",
       "      'l': 246.36,\n",
       "      'o': 246.52,\n",
       "      't': 1585195200,\n",
       "      'v': 54641901}),\n",
       "  Bar({   'c': 247.62,\n",
       "      'h': 255.87,\n",
       "      'l': 247.05,\n",
       "      'o': 252.75,\n",
       "      't': 1585281600,\n",
       "      'v': 45641532})]}"
      ]
     },
     "execution_count": 43,
     "metadata": {},
     "output_type": "execute_result"
    }
   ],
   "source": [
    "api.get_barset(symbols='AAPL',start='2010-01-01T00:00:00.000Z',end='2020-07-22T00:00:00.000Z',timeframe='day')"
   ]
  },
  {
   "cell_type": "code",
   "execution_count": 69,
   "metadata": {},
   "outputs": [
    {
     "name": "stdout",
     "output_type": "stream",
     "text": [
      "50 2019-12-17T17:41:16.000Z 2020-03-27T15:00:03.000Z\n"
     ]
    }
   ],
   "source": [
    "news = list(api.polygon.news('F'))\n",
    "times = []\n",
    "for i in news:\n",
    "    times.append(i.timestamp)\n",
    "print(len(times),min(times),max(times))"
   ]
  },
  {
   "cell_type": "code",
   "execution_count": 11,
   "metadata": {},
   "outputs": [
    {
     "name": "stdout",
     "output_type": "stream",
     "text": [
      "Counter({'funct': 2, 'cogmech': 2, 'excl': 2, 'verb': 1, 'present': 1, 'affect': 1, 'posemo': 1, 'bio': 1, 'sexual': 1, 'social': 1, 'conj': 1, 'negate': 1})\n"
     ]
    }
   ],
   "source": [
    "from liwc import Liwc\n",
    "liwc = Liwc('/home/kenneywl/Desktop/Projects/Prometheus/LIWC2007_English100131.dic')\n",
    "liwc.parse(jacob.split(' '))"
   ]
  }
 ],
 "metadata": {
  "kernelspec": {
   "display_name": "Python 3",
   "language": "python",
   "name": "python3"
  },
  "language_info": {
   "codemirror_mode": {
    "name": "ipython",
    "version": 3
   },
   "file_extension": ".py",
   "mimetype": "text/x-python",
   "name": "python",
   "nbconvert_exporter": "python",
   "pygments_lexer": "ipython3",
   "version": "3.7.7"
  }
 },
 "nbformat": 4,
 "nbformat_minor": 4
}
