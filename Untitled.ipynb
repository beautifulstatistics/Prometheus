{
 "cells": [
  {
   "cell_type": "code",
   "execution_count": 102,
   "metadata": {},
   "outputs": [],
   "source": [
    "from googlesearch import search\n",
    "from bs4 import BeautifulSoup\n",
    "import requests\n",
    "import re\n",
    "\n",
    "def download_search(title,num=20):\n",
    "    regex = re.compile('[^a-zA-Z.!0-9$%?,.]')\n",
    "    def clean(line):\n",
    "        line = regex.sub(' ',line)\n",
    "        return(line)\n",
    "\n",
    "    strings = {}\n",
    "    for i in search(title, tld=\"com\", num=num, stop=num, pause=3):\n",
    "        r = requests.get(i)\n",
    "        soup = BeautifulSoup(r.text, 'html.parser')\n",
    "        text = ''\n",
    "        for j in soup.find_all('p'):\n",
    "            text += ' ' + j.get_text()\n",
    "        \n",
    "        strings[i] = (clean(soup.title.string), clean(text))\n",
    "        \n",
    "    return(strings)"
   ]
  },
  {
   "cell_type": "code",
   "execution_count": 103,
   "metadata": {},
   "outputs": [],
   "source": [
    "s = download_search('ford ')"
   ]
  },
  {
   "cell_type": "code",
   "execution_count": 104,
   "metadata": {
    "scrolled": false
   },
   "outputs": [
    {
     "data": {
      "text/plain": [
       "{'https://www.ford.com/': ('Ford     New Hybrid   Electric Vehicles, SUVs, Crossovers, Trucks, Vans   Cars',\n",
       "  ' Who leaves ratings and reviews? Ratings and reviews are provided by customers who have either purchased a vehicle or visited a dealership for service. How are ratings and reviews collected? Customers are invited to participate in a survey administered by MaritzCX, an independent, third party supplier. Can dealerships edit or remove reviews? No. Ford personnel and or dealership personnel cannot modify or remove reviews. Are reviews modified or monitored before being published? MaritzCX moderates public reviews to ensure they contain content that meet Review guidelines, such as     No Profanity or inappropriate defamatory remarks    Fraud    No Personal Identifying information  e.g., customer phone number or email     No Competitor references  e.g., another brand or dealership     Dangerous behavior  e.g. threatening to harm employees or others     Lack of adequate text  e.g., symbols, emoji   s and random letters  Reviews on the product and not the customer   s Sales or Service experience  Research Price   Locate Ford Credit Finance Tools   Resources Apply for Credit Account Management Your Vehicle Service   Maintenance Support   How Tos FordPass Contact Us Vehicles Shop Finance Owner Ask Ford  In a time of hardship and upheaval, one thing is for certain   we remain a family and a company that is stronger together and committed to racial and social justice. Learn More       Leadership Message     Learn More     Learn More    Learn More About Ford Promise   If you   re affected by COVID 19 and are leasing or financing through Ford Credit, we   re here to help.     Ford Credit Support                                      Search Inventory     View All View Less     Learn More     Save    Share    Download  Click one of the below icons to start the browser download. By entering your mobile phone number, you expressly consent to receive a text message on your mobile phone. Standard messaging and data plan rates may apply.           Do Not Sell My Personal Information   Follow Ford')}"
      ]
     },
     "execution_count": 104,
     "metadata": {},
     "output_type": "execute_result"
    }
   ],
   "source": [
    "s"
   ]
  }
 ],
 "metadata": {
  "kernelspec": {
   "display_name": "Python 3",
   "language": "python",
   "name": "python3"
  },
  "language_info": {
   "codemirror_mode": {
    "name": "ipython",
    "version": 3
   },
   "file_extension": ".py",
   "mimetype": "text/x-python",
   "name": "python",
   "nbconvert_exporter": "python",
   "pygments_lexer": "ipython3",
   "version": "3.7.7"
  }
 },
 "nbformat": 4,
 "nbformat_minor": 4
}
