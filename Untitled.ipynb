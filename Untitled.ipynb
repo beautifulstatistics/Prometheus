{
 "cells": [
  {
   "cell_type": "code",
   "execution_count": null,
   "metadata": {},
   "outputs": [],
   "source": [
    "import gensim\n",
    "\n",
    "LabeledSentence = gensim.models.doc2vec.LabeledSentence\n",
    "\n",
    "from sklearn.cross_validation import train_test_split\n",
    "import numpy as np\n",
    "\n",
    "with open('pos.txt','r') as infile:\n",
    "    pos_reviews = infile.readlines()\n",
    "    \n",
    "with open('neg.txt','r') as infile:\n",
    "    neg_reviews = infile.readlines()\n",
    "\n",
    "with open('unsup.txt','r') as infile:\n",
    "    unsup_reviews = infile.readlines()\n",
    "#use 1 for positive sentiment, 0 for negative\n",
    "\n",
    "y = np.concatenate((np.ones(len(pos_reviews)), np.zeros(len(neg_reviews))))\n",
    "\n",
    "x_train, x_test, y_train, y_test = train_test_split(np.concatenate((pos_reviews, neg_reviews)), y, test_size=0.2)\n",
    "\n",
    "def cleanText(corpus):\n",
    "    punctuation = \"\"\".,?!:;(){}[]\"\"\"\n",
    "    corpus = [z.lower().replace('\\n','') for z in corpus]\n",
    "    corpus = [z.replace('<br />', ' ') for z in corpus]    #treat punctuation as individual words\n",
    "    for c in punctuation:\n",
    "        corpus = [z.replace(c, ' %s '%c) for z in corpus]\n",
    "    corpus = [z.split() for z in corpus]\n",
    "    return corpusx_train = cleanText(x_train)\n",
    "\n",
    "x_test = cleanText(x_test)\n",
    "unsup_reviews = cleanText(unsup_reviews)#Gensim's Doc2Vec implementation requires each document/paragraph \n",
    "#to have a label associated with it. \n",
    "#We do this by using the LabeledSentence method. \n",
    "#The format will be \"TRAIN_i\" or \"TEST_i\" where \"i\" is\n",
    "#a dummy index of the review.\n",
    "\n",
    "def labelizeReviews(reviews, label_type):\n",
    "    labelized = []\n",
    "    for i,v in enumerate(reviews):\n",
    "        label = '%s_%s'%(label_type,i)\n",
    "        labelized.append(LabeledSentence(v, [label]))\n",
    "    return labelizedx_train = labelizeReviews(x_train, 'TRAIN')\n",
    "\n",
    "x_test = labelizeReviews(x_test, 'TEST')\n",
    "unsup_reviews = labelizeReviews(unsup_reviews, 'UNSUP')"
   ]
  }
 ],
 "metadata": {
  "kernelspec": {
   "display_name": "Python 3",
   "language": "python",
   "name": "python3"
  },
  "language_info": {
   "codemirror_mode": {
    "name": "ipython",
    "version": 3
   },
   "file_extension": ".py",
   "mimetype": "text/x-python",
   "name": "python",
   "nbconvert_exporter": "python",
   "pygments_lexer": "ipython3",
   "version": "3.7.7"
  }
 },
 "nbformat": 4,
 "nbformat_minor": 4
}
