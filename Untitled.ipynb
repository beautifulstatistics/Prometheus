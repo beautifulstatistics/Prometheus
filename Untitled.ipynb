{
 "cells": [
  {
   "cell_type": "code",
   "execution_count": 2,
   "metadata": {},
   "outputs": [
    {
     "ename": "ModuleNotFoundError",
     "evalue": "No module named 'Classify'",
     "output_type": "error",
     "traceback": [
      "\u001b[0;31m---------------------------------------------------------------------------\u001b[0m",
      "\u001b[0;31mModuleNotFoundError\u001b[0m                       Traceback (most recent call last)",
      "\u001b[0;32m<ipython-input-2-e83712da8472>\u001b[0m in \u001b[0;36m<module>\u001b[0;34m\u001b[0m\n\u001b[0;32m----> 1\u001b[0;31m \u001b[0;32mfrom\u001b[0m \u001b[0mClassify\u001b[0m \u001b[0;32mimport\u001b[0m \u001b[0mClassify\u001b[0m\u001b[0;34m\u001b[0m\u001b[0;34m\u001b[0m\u001b[0m\n\u001b[0m\u001b[1;32m      2\u001b[0m \u001b[0;32mimport\u001b[0m \u001b[0mpandas\u001b[0m \u001b[0;32mas\u001b[0m \u001b[0mpd\u001b[0m\u001b[0;34m\u001b[0m\u001b[0;34m\u001b[0m\u001b[0m\n",
      "\u001b[0;31mModuleNotFoundError\u001b[0m: No module named 'Classify'"
     ]
    }
   ],
   "source": [
    "from Classify import Classify\n",
    "import pandas as pd"
   ]
  },
  {
   "cell_type": "code",
   "execution_count": 2,
   "metadata": {},
   "outputs": [],
   "source": [
    "summaries = pd.read_pickle(\"summaries.pkl\")\n",
    "summaries_r = pd.read_pickle(\"summaries_r.pkl\")\n",
    "titles = pd.read_pickle(\"titles.pkl\")\n",
    "titles_r = pd.read_pickle(\"titles_r.pkl\")"
   ]
  },
  {
   "cell_type": "code",
   "execution_count": 3,
   "metadata": {},
   "outputs": [
    {
     "name": "stdout",
     "output_type": "stream",
     "text": [
      "Your data has been validated to work with sklearn.\n"
     ]
    }
   ],
   "source": [
    "sclf = Classify()\n",
    "sclf.data(titles,titles_r,label='Controversial')"
   ]
  },
  {
   "cell_type": "code",
   "execution_count": 4,
   "metadata": {},
   "outputs": [],
   "source": [
    "from sklearn.naive_bayes import GaussianNB\n",
    "from sklearn.svm import LinearSVC, NuSVC, SVC\n",
    "from sklearn.tree import DecisionTreeClassifier, ExtraTreeClassifier\n",
    "from sklearn.neural_network import MLPClassifier\n",
    "from sklearn.neighbors import RadiusNeighborsClassifier, RadiusNeighborsClassifier\n",
    "from sklearn.ensemble import AdaBoostClassifier, BaggingClassifier, ExtraTreesClassifier\n",
    "from sklearn.ensemble import GradientBoostingClassifier, RandomForestClassifier, StackingClassifier\n",
    "from sklearn.linear_model import LogisticRegression\n"
   ]
  },
  {
   "cell_type": "code",
   "execution_count": 5,
   "metadata": {},
   "outputs": [
    {
     "name": "stdout",
     "output_type": "stream",
     "text": [
      "Processing GaussianNB: Added.\n",
      "Processing LinearSVC: Added.\n",
      "Processing SVC: Added.\n",
      "Processing DecisionTreeClassifier: Added.\n",
      "Processing ExtraTreeClassifier: Added.\n",
      "Processing MLPClassifier: Added.\n",
      "Processing AdaBoostClassifier: Added.\n",
      "Processing BaggingClassifier: Added.\n",
      "Processing ExtraTreesClassifier: Added.\n",
      "Processing GradientBoostingClassifier: Added.\n",
      "Processing RandomForestClassifier: Added.\n"
     ]
    }
   ],
   "source": [
    "sclf.add_fit(GaussianNB())\n",
    "sclf.add_fit(LinearSVC(max_iter= 5000))\n",
    "sclf.add_fit(SVC())\n",
    "sclf.add_fit(DecisionTreeClassifier())\n",
    "sclf.add_fit(ExtraTreeClassifier())\n",
    "sclf.add_fit(MLPClassifier(max_iter= 5000))\n",
    "sclf.add_fit(AdaBoostClassifier())\n",
    "sclf.add_fit(BaggingClassifier())\n",
    "sclf.add_fit(ExtraTreesClassifier())\n",
    "sclf.add_fit(GradientBoostingClassifier())\n",
    "sclf.add_fit(RandomForestClassifier())\n",
    "sclf.add_fit(LogisticRegression())\n"
   ]
  },
  {
   "cell_type": "code",
   "execution_count": 1,
   "metadata": {},
   "outputs": [
    {
     "ename": "NameError",
     "evalue": "name 'sclf' is not defined",
     "output_type": "error",
     "traceback": [
      "\u001b[0;31m---------------------------------------------------------------------------\u001b[0m",
      "\u001b[0;31mNameError\u001b[0m                                 Traceback (most recent call last)",
      "\u001b[0;32m<ipython-input-1-710fb8d964db>\u001b[0m in \u001b[0;36m<module>\u001b[0;34m\u001b[0m\n\u001b[0;32m----> 1\u001b[0;31m \u001b[0msclf\u001b[0m\u001b[0;34m.\u001b[0m\u001b[0madd_fit\u001b[0m\u001b[0;34m(\u001b[0m\u001b[0mNuSVC\u001b[0m\u001b[0;34m(\u001b[0m\u001b[0;34m)\u001b[0m\u001b[0;34m)\u001b[0m\u001b[0;34m\u001b[0m\u001b[0;34m\u001b[0m\u001b[0m\n\u001b[0m",
      "\u001b[0;31mNameError\u001b[0m: name 'sclf' is not defined"
     ]
    }
   ],
   "source": [
    "sclf.add_fit(NuSVC())"
   ]
  }
 ],
 "metadata": {
  "kernelspec": {
   "display_name": "Python 3",
   "language": "python",
   "name": "python3"
  },
  "language_info": {
   "codemirror_mode": {
    "name": "ipython",
    "version": 3
   },
   "file_extension": ".py",
   "mimetype": "text/x-python",
   "name": "python",
   "nbconvert_exporter": "python",
   "pygments_lexer": "ipython3",
   "version": "3.7.7"
  }
 },
 "nbformat": 4,
 "nbformat_minor": 4
}
